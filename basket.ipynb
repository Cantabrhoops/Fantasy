{
 "cells": [
  {
   "cell_type": "code",
   "execution_count": 2,
   "metadata": {},
   "outputs": [
    {
     "name": "stderr",
     "output_type": "stream",
     "text": [
      "\n",
      "[notice] A new release of pip is available: 23.3.2 -> 25.1.1\n",
      "[notice] To update, run: pip install --upgrade pip\n",
      "\r"
     ]
    }
   ],
   "source": [
    "!pip install requests beautifulsoup4 --quiet"
   ]
  },
  {
   "cell_type": "code",
   "execution_count": 4,
   "metadata": {},
   "outputs": [
    {
     "name": "stdout",
     "output_type": "stream",
     "text": [
      "✅ Generado /private/var/mobile/Containers/Data/Application/E489EA38-32B7-4F3B-B70B-04343FABA908/Documents/basket_data.json con 0 registros\n"
     ]
    }
   ],
   "source": [
    "import requests, bs4, json, time, pathlib\n",
    "\n",
    "# --- CONFIGURA TUS CONSTANTES ---\n",
    "COMP_ID   = \"1410\"      # id de la competición en fecanbaloncesto.com\n",
    "PA_LIGA   = 75          # media pts encajados por partido (aprox.)\n",
    "DELAY     = 0.5         # segundos entre peticiones (cortesía)\n",
    "\n",
    "BASE  = \"https://www.fecanbaloncesto.com\"\n",
    "API   = BASE + \"/services/estadisticas_partido.php?idPartido=\"\n",
    "COMP  = f\"{BASE}/competicion/?id={COMP_ID}\"\n",
    "\n",
    "# --- FUNCIONES DE SCRAPE Y CÁLCULO ---\n",
    "def partido_ids():\n",
    "    html = requests.get(COMP, timeout=10).text\n",
    "    soup = bs4.BeautifulSoup(html, \"html.parser\")\n",
    "    return [a[\"data-idpartido\"] for a in soup.select(\"a.estadisticas\")]\n",
    "\n",
    "def eff(p):\n",
    "    FGM = p['t2conv'] + p['t3conv']\n",
    "    FGA = p['t2int'] + p['t3int']\n",
    "    return (p['puntos']\n",
    "            - (FGA-FGM)\n",
    "            - (p['tlint']-p['tlconv'])\n",
    "            - p['faltas']\n",
    "            + 0.1 * p['min'])\n",
    "\n",
    "def procesa_partido(pid):\n",
    "    data = requests.get(API+pid, timeout=10).json()\n",
    "    salida = []\n",
    "    for side in ('local', 'visitante'):\n",
    "        PA_rival = data['marcadorVisitante'] if side=='local' else data['marcadorLocal']\n",
    "        FD = PA_LIGA / PA_rival\n",
    "        for p in data[side]:\n",
    "            val  = eff(p) * FD\n",
    "            cred = max(5, min(15, round(0.8*val + 3)))\n",
    "            salida.append({\n",
    "                \"partido\" : pid,\n",
    "                \"equipo\"  : side,\n",
    "                \"nombre\"  : p['nombre'],\n",
    "                \"min\"     : p['min'],\n",
    "                \"pts\"     : p['puntos'],\n",
    "                \"eff\"     : round(val, 1),\n",
    "                \"cred\"    : cred\n",
    "            })\n",
    "    return salida\n",
    "\n",
    "# --- EJECUTA PARA TODA LA JORNADA ---\n",
    "todos = []\n",
    "for pid in partido_ids():\n",
    "    todos.extend(procesa_partido(pid))\n",
    "    time.sleep(DELAY)\n",
    "\n",
    "# Guarda en la carpeta de Carnets (visible en Archivos)\n",
    "ruta = pathlib.Path.home() / \"Documents\" / \"basket_data.json\"\n",
    "with open(ruta, \"w\", encoding=\"utf8\") as f:\n",
    "    json.dump(todos, f, ensure_ascii=False, indent=2)\n",
    "\n",
    "print(f\"✅ Generado {ruta} con {len(todos)} registros\")\n"
   ]
  },
  {
   "cell_type": "code",
   "execution_count": 5,
   "metadata": {},
   "outputs": [
    {
     "name": "stdout",
     "output_type": "stream",
     "text": [
      "🎉 Todo OK: módulos disponibles\n"
     ]
    }
   ],
   "source": [
    "import requests, bs4\n",
    "print(\"🎉 Todo OK: módulos disponibles\")"
   ]
  }
 ],
 "metadata": {
  "kernelspec": {
   "display_name": "Python 3 (ipykernel)",
   "language": "python",
   "name": "python3"
  },
  "language_info": {
   "codemirror_mode": {
    "name": "ipython",
    "version": 3
   },
   "file_extension": ".py",
   "mimetype": "text/x-python",
   "name": "python",
   "nbconvert_exporter": "python",
   "pygments_lexer": "ipython3",
   "version": "3.11.0"
  }
 },
 "nbformat": 4,
 "nbformat_minor": 4
}
