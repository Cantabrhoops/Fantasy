{
 "cells": [
  {
   "cell_type": "code",
   "execution_count": 1,
   "metadata": {},
   "outputs": [],
   "source": [
    "# Si ya tienes requests y bs4 instalados, esta celda no hará nada.\n",
    "# Si no, instalará automáticamente.\n",
    "import sys, subprocess\n",
    "\n",
    "try:\n",
    "    import requests, bs4\n",
    "except ModuleNotFoundError:\n",
    "    subprocess.check_call([sys.executable, \"-m\", \"pip\", \"install\", \"requests\", \"beautifulsoup4\"])\n",
    "    import requests, bs4\n",
    "\n",
    "import json, time, pathlib\n",
    "from bs4 import BeautifulSoup"
   ]
  },
  {
   "cell_type": "code",
   "execution_count": 2,
   "metadata": {},
   "outputs": [
    {
     "name": "stdout",
     "output_type": "stream",
     "text": [
      "✅ JSON generado en /private/var/mobile/Containers/Data/Application/E489EA38-32B7-4F3B-B70B-04343FABA908/Documents/basket_data.json — 0 registros\n"
     ]
    }
   ],
   "source": [
    "# — CONFIGURA:\n",
    "COMP_ID = \"1410\"    # ID de tu liga\n",
    "PA_LIGA = 75        # media de puntos encajados/juego\n",
    "DELAY   = 0.5       # segundos entre peticiones\n",
    "\n",
    "BASE = \"https://www.fecanbaloncesto.com\"\n",
    "API  = BASE + \"/services/estadisticas_partido.php?idPartido=\"\n",
    "COMP = f\"{BASE}/competicion/?id={COMP_ID}\"\n",
    "\n",
    "def partido_ids():\n",
    "    html = requests.get(COMP, timeout=10).text\n",
    "    soup = BeautifulSoup(html, \"html.parser\")\n",
    "    return [a[\"data-idpartido\"] for a in soup.select(\"a.estadisticas\")]\n",
    "\n",
    "def calc_eff(p):\n",
    "    FGM = p[\"t2conv\"] + p[\"t3conv\"]\n",
    "    FGA = p[\"t2int\"]  + p[\"t3int\"]\n",
    "    return (p[\"puntos\"]\n",
    "            - (FGA-FGM)\n",
    "            - (p[\"tlint\"]-p[\"tlconv\"])\n",
    "            - p[\"faltas\"]\n",
    "            + 0.1 * p[\"min\"])\n",
    "\n",
    "out = []\n",
    "for pid in partido_ids():\n",
    "    data = requests.get(API+pid, timeout=10).json()\n",
    "    for side in (\"local\",\"visitante\"):\n",
    "        pa_rival = data[\"marcadorVisitante\"] if side==\"local\" else data[\"marcadorLocal\"]\n",
    "        FD = PA_LIGA / pa_rival\n",
    "        for p in data[side]:\n",
    "            eff = calc_eff(p)\n",
    "            cred = max(5, min(15, round(0.8*eff*FD + 3)))\n",
    "            out.append({\n",
    "                \"partido\": pid,\n",
    "                \"equipo\":  side,\n",
    "                \"nombre\":  p[\"nombre\"],\n",
    "                \"min\":     p[\"min\"],\n",
    "                \"pts\":     p[\"puntos\"],\n",
    "                \"eff\":     round(eff*FD,1),\n",
    "                \"cred\":    cred\n",
    "            })\n",
    "    time.sleep(DELAY)\n",
    "\n",
    "# Guarda el JSON en Carnets/Documents\n",
    "ruta = pathlib.Path.home() / \"Documents\" / \"basket_data.json\"\n",
    "with open(ruta, \"w\", encoding=\"utf8\") as f:\n",
    "    json.dump(out, f, ensure_ascii=False, indent=2)\n",
    "\n",
    "print(f\"✅ JSON generado en {ruta} — {len(out)} registros\")"
   ]
  },
  {
   "cell_type": "code",
   "execution_count": null,
   "metadata": {},
   "outputs": [],
   "source": []
  }
 ],
 "metadata": {
  "kernelspec": {
   "display_name": "Python 3 (ipykernel)",
   "language": "python",
   "name": "python3"
  },
  "language_info": {
   "codemirror_mode": {
    "name": "ipython",
    "version": 3
   },
   "file_extension": ".py",
   "mimetype": "text/x-python",
   "name": "python",
   "nbconvert_exporter": "python",
   "pygments_lexer": "ipython3",
   "version": "3.11.0"
  }
 },
 "nbformat": 4,
 "nbformat_minor": 4
}
